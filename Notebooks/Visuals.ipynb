{
 "cells": [
  {
   "cell_type": "code",
   "execution_count": 2,
   "metadata": {},
   "outputs": [],
   "source": [
    "import pandas as pd "
   ]
  },
  {
   "cell_type": "code",
   "execution_count": null,
   "metadata": {},
   "outputs": [],
   "source": [
    "#Requirements:\n",
    "\n",
    "#Requirements: Two data sources are combined correctly\n",
    "#Any reference to revenue correctly calculates (or identifies) deposits and monthly payments.\n",
    "#Each participant has at least one commit in the repository for the work completed.\n",
    "#All participants have access to the repository\n",
    "#Each participant should construct at least One Visual (minimum, 3 visuals for presentation)\n",
    "#The final notebook should show the visuals in line with text in the markdown cells articulating:\n",
    "#What this graph is showing\n",
    "#Why it is important\n",
    "#What it means for the business\n",
    "#Any action items the business should take with this knowlege\n",
    "#The data work and code to process each step should be in separate .py files\n",
    "#The final project notebooks should call each (if more than one) .py file to execute the code for each step"
   ]
  },
  {
   "cell_type": "code",
   "execution_count": 3,
   "metadata": {},
   "outputs": [],
   "source": [
    "def load_data():\n",
    "    df_customers = pd.read_csv(\"/Users/matthavey/Desktop/bip-python-unh/sales_analysis/data/customers.csv\")\n",
    "    df_contracts = pd.read_csv(\"/Users/matthavey/Desktop/bip-python-unh/sales_analysis/data/contracts.csv\")\n",
    "    return df_customers,  df_contracts"
   ]
  },
  {
   "cell_type": "code",
   "execution_count": 4,
   "metadata": {},
   "outputs": [],
   "source": [
    "def combine_data( df_customers,  df_contracts):\n",
    "    df_customers.rename(columns={'id':'customer_id'}, inplace=True)\n",
    "    df_customers.set_index('customer_id', inplace=True)\n",
    "    df_contracts.set_index('customer_id', inplace=True)\n",
    "    df = df_contracts.join(df_customers, how='left')\n",
    "    return df"
   ]
  },
  {
   "cell_type": "code",
   "execution_count": null,
   "metadata": {},
   "outputs": [],
   "source": []
  }
 ],
 "metadata": {
  "kernelspec": {
   "display_name": "Python 3",
   "language": "python",
   "name": "python3"
  },
  "language_info": {
   "codemirror_mode": {
    "name": "ipython",
    "version": 3
   },
   "file_extension": ".py",
   "mimetype": "text/x-python",
   "name": "python",
   "nbconvert_exporter": "python",
   "pygments_lexer": "ipython3",
   "version": "3.8.5"
  }
 },
 "nbformat": 4,
 "nbformat_minor": 4
}
